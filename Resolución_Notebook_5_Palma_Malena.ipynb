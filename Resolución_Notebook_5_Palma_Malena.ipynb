{
  "nbformat": 4,
  "nbformat_minor": 0,
  "metadata": {
    "kernelspec": {
      "display_name": "Python 3",
      "language": "python",
      "name": "python3"
    },
    "language_info": {
      "codemirror_mode": {
        "name": "ipython",
        "version": 3
      },
      "file_extension": ".py",
      "mimetype": "text/x-python",
      "name": "python",
      "nbconvert_exporter": "python",
      "pygments_lexer": "ipython3",
      "version": "3.7.3"
    },
    "colab": {
      "provenance": [],
      "include_colab_link": true
    }
  },
  "cells": [
    {
      "cell_type": "markdown",
      "metadata": {
        "id": "view-in-github",
        "colab_type": "text"
      },
      "source": [
        "<a href=\"https://colab.research.google.com/github/MalePalma/Ingenias-Data/blob/main/Resoluci%C3%B3n_Notebook_5_Palma_Malena.ipynb\" target=\"_parent\"><img src=\"https://colab.research.google.com/assets/colab-badge.svg\" alt=\"Open In Colab\"/></a>"
      ]
    },
    {
      "cell_type": "markdown",
      "metadata": {
        "id": "Gp2WddtV9IwG"
      },
      "source": [
        "# Programa Ingenias+ Data Science"
      ]
    },
    {
      "cell_type": "markdown",
      "metadata": {
        "id": "H4M1yVbf9IwH"
      },
      "source": [
        "Como dijimos en clases anteriores, Python tiene implementadas muchas librerias para poder trabajar con datos. En la clase de hoy trabajaremos con una de ellas: `Numpy`."
      ]
    },
    {
      "cell_type": "markdown",
      "metadata": {
        "id": "GdTT8WeL9IwI"
      },
      "source": [
        "Antes de comenzar, vamos a hablar un poco de esta libreria o modulo.\n",
        "\n",
        "**Numpy** es una librería optimizada para realizar cálculos numéricos con vectores y matrices. A diferencia de otros lenguajes de programación, Python no posee en su estructura central la figura de matrices. Eso quiere decir que para poder trabajar con esta estructura de datos deberiamos trabajar con listas de listas. NumPy introduce el concepto de arrays o matrices."
      ]
    },
    {
      "cell_type": "markdown",
      "metadata": {
        "id": "qWkq3EHK9IwK"
      },
      "source": [
        "Al ser de código abierto, `numpy` posee una documentación muy amplia que es **SIEMPRE RECOMENDABLE** consultar."
      ]
    },
    {
      "cell_type": "markdown",
      "metadata": {
        "id": "nxe3KLUO9IwL"
      },
      "source": [
        "- [Documentacion NumPy](https://devdocs.io/numpy/)"
      ]
    },
    {
      "cell_type": "markdown",
      "metadata": {
        "id": "l1Ay3nSs9IwN"
      },
      "source": [
        "## Clase 4: Introduccion a NumPy"
      ]
    },
    {
      "cell_type": "markdown",
      "metadata": {
        "id": "X03mviQS9IyL"
      },
      "source": [
        "# Ejercicios\n",
        "\n",
        "1. Crear un arreglo de ceros de longitud 12\n",
        "2. Crear un arreglo de longitud 10 con ceros en todas sus posiciones y un 10 en la posición número 5\n",
        "3. Crear un arreglo que tenga los números del 10 al 49\n",
        "4. Crear una arreglo 2d de shape (3, 3) que tenga los números del 0 al 8\n",
        "5. Crear un arreglo de números aleatorios de longitud 100 y obtener su media y varianza\n",
        "6. Calcular la media de un arreglo usando np.sum\n",
        "7. Calcular la varianza de un arreglo usando np.sum y np.mean\n",
        "8. Crear un array de números aleatorios usando np.random.randn.\n"
      ]
    },
    {
      "cell_type": "code",
      "metadata": {
        "id": "G0NMKT609IyM",
        "colab": {
          "base_uri": "https://localhost:8080/"
        },
        "outputId": "867b73a1-b125-4b5a-c7ee-d903e3de2640"
      },
      "source": [
        "#Ejercicio 1:Crear un arreglo de ceros de longitud 12#\n",
        "import numpy as np\n",
        "arreglo_ej_1= np.zeros(12)\n",
        "print (arreglo_ej_1)"
      ],
      "execution_count": 2,
      "outputs": [
        {
          "output_type": "stream",
          "name": "stdout",
          "text": [
            "[0. 0. 0. 0. 0. 0. 0. 0. 0. 0. 0. 0.]\n"
          ]
        }
      ]
    },
    {
      "cell_type": "code",
      "source": [
        "#Ejercicio 2: Crear un arreglo de longitud 10 con ceros en todas sus posiciones y un 10 en la posición número 5#\n",
        "import numpy as np\n",
        "arreglo_ej_2= np.zeros (10)\n",
        "arreglo_ej_2[4]=10\n",
        "print (arreglo_ej_2)"
      ],
      "metadata": {
        "colab": {
          "base_uri": "https://localhost:8080/"
        },
        "id": "0av5b9RswYpb",
        "outputId": "b9d38080-3d2d-40d0-f9f4-957439cd12d4"
      },
      "execution_count": 3,
      "outputs": [
        {
          "output_type": "stream",
          "name": "stdout",
          "text": [
            "[ 0.  0.  0.  0. 10.  0.  0.  0.  0.  0.]\n"
          ]
        }
      ]
    },
    {
      "cell_type": "code",
      "source": [
        "#Ejercicio 3: Crear un arreglo que tenga los números del 10 al 49#\n",
        "import numpy as np\n",
        "arreglo_ej_3= np.arange(10, 50)\n",
        "print (arreglo_ej_3)"
      ],
      "metadata": {
        "colab": {
          "base_uri": "https://localhost:8080/"
        },
        "id": "v7vZTiTmxDc6",
        "outputId": "edf3762e-30cd-4935-bd90-bd75c09b78d9"
      },
      "execution_count": 5,
      "outputs": [
        {
          "output_type": "stream",
          "name": "stdout",
          "text": [
            "[10 11 12 13 14 15 16 17 18 19 20 21 22 23 24 25 26 27 28 29 30 31 32 33\n",
            " 34 35 36 37 38 39 40 41 42 43 44 45 46 47 48 49]\n"
          ]
        }
      ]
    },
    {
      "cell_type": "code",
      "source": [
        "#Ejercicio 4: Crear una arreglo 2d de shape (3, 3) que tenga los números del 0 al 8#\n",
        "\n",
        "import numpy as np\n",
        "arreglo_ej_4= np.array (range(9)).reshape (3,3)\n",
        "print (arreglo_ej_4)"
      ],
      "metadata": {
        "colab": {
          "base_uri": "https://localhost:8080/"
        },
        "id": "Bd9KvPtUxtku",
        "outputId": "173099bc-ea79-4161-8524-c6da67dad150"
      },
      "execution_count": 14,
      "outputs": [
        {
          "output_type": "stream",
          "name": "stdout",
          "text": [
            "[[0 1 2]\n",
            " [3 4 5]\n",
            " [6 7 8]]\n"
          ]
        }
      ]
    },
    {
      "cell_type": "code",
      "source": [
        "#Ejercicio 5: Crear un arreglo de números aleatorios de longitud 100 y obtener su media y varianza#\n",
        "import numpy as np\n",
        "\n",
        "#Arreglo de 100 numeros aleatorios#\n",
        "arreglo_ej_5= np.random.random(100)\n",
        "print(\"arreglo de 100 numero aleatorios:\", arreglo_ej_5)"
      ],
      "metadata": {
        "colab": {
          "base_uri": "https://localhost:8080/"
        },
        "id": "SNLDsiB-z4o2",
        "outputId": "cc84d3d5-798e-4684-c6fd-04fa60be9d36"
      },
      "execution_count": 20,
      "outputs": [
        {
          "output_type": "stream",
          "name": "stdout",
          "text": [
            "arreglo de 100 numero aleatorios: [0.31594366 0.34617008 0.52165141 0.44795682 0.38780008 0.93830126\n",
            " 0.68658882 0.34363144 0.75253164 0.45124599 0.42185801 0.94417627\n",
            " 0.20986679 0.24338456 0.31466808 0.50288051 0.84480935 0.8601651\n",
            " 0.4415603  0.83422682 0.23655203 0.00127145 0.49222667 0.9166547\n",
            " 0.99933338 0.88134495 0.08315538 0.30378576 0.56723337 0.83222337\n",
            " 0.00890013 0.85579424 0.68334946 0.25384528 0.52091304 0.85723776\n",
            " 0.15926325 0.28873737 0.36099923 0.75288584 0.02888347 0.07306358\n",
            " 0.87162372 0.96093607 0.33379034 0.50101027 0.90685221 0.61381898\n",
            " 0.84929319 0.27485594 0.35968212 0.66604604 0.85356216 0.37733105\n",
            " 0.896966   0.91237721 0.32550735 0.46479498 0.88092808 0.85524169\n",
            " 0.47782821 0.53191757 0.0654197  0.56312327 0.7433177  0.94060621\n",
            " 0.92362543 0.19974715 0.57874438 0.69993156 0.0640107  0.78964986\n",
            " 0.31733335 0.59484875 0.77642436 0.34018141 0.42813942 0.06670621\n",
            " 0.17160176 0.63002125 0.81804626 0.79291182 0.91557236 0.27554869\n",
            " 0.82939808 0.50832284 0.38970626 0.34947122 0.77193013 0.65438103\n",
            " 0.37201352 0.13898783 0.21419857 0.97181251 0.48259515 0.50272026\n",
            " 0.76587614 0.00595874 0.09322467 0.50820955]\n"
          ]
        }
      ]
    },
    {
      "cell_type": "code",
      "source": [
        "#Media#\n",
        "media=np.mean(arreglo_ej_5)\n",
        "print (\"Media:\", media)"
      ],
      "metadata": {
        "colab": {
          "base_uri": "https://localhost:8080/"
        },
        "id": "bQm9uA2u0zfr",
        "outputId": "8b809bb6-24d3-42e8-e6c4-924feeee38f3"
      },
      "execution_count": 21,
      "outputs": [
        {
          "output_type": "stream",
          "name": "stdout",
          "text": [
            "Media: 0.5313575199322991\n"
          ]
        }
      ]
    },
    {
      "cell_type": "code",
      "source": [
        "#Varianza#\n",
        "varianza= np.var(arreglo_ej_5)\n",
        "print (\"Varianza:\", varianza)"
      ],
      "metadata": {
        "colab": {
          "base_uri": "https://localhost:8080/"
        },
        "id": "wIyUaIyO1INm",
        "outputId": "71ddfdf7-e3a5-4040-a4df-ec88d7fadd5b"
      },
      "execution_count": 22,
      "outputs": [
        {
          "output_type": "stream",
          "name": "stdout",
          "text": [
            "varianza 0.08125553967420215\n"
          ]
        }
      ]
    },
    {
      "cell_type": "code",
      "source": [
        "#Ejerciocio 6: Calcular la media de un arreglo usando np.sum#\n",
        "import numpy as np\n",
        "arreglo_ej_6= np.arange(1,61)\n",
        "suma= np.sum(arreglo_ej_6)\n",
        "cantidad=np.size(arreglo_ej_6)\n",
        "media= suma/cantidad\n",
        "print (media)"
      ],
      "metadata": {
        "colab": {
          "base_uri": "https://localhost:8080/"
        },
        "id": "JOm3V26213KX",
        "outputId": "b4290e80-eb52-4c0e-befa-f3262559e15c"
      },
      "execution_count": 28,
      "outputs": [
        {
          "output_type": "stream",
          "name": "stdout",
          "text": [
            "1830\n"
          ]
        }
      ]
    },
    {
      "cell_type": "code",
      "source": [
        "#Ejercicio 7: Calcular la varianza de un arreglo usando np.sum y np.mean#\n",
        "import numpy as np\n",
        "arreglo_ej_7= np.arange(1,101)\n",
        "cantidad= np.size (arreglo_ej_7)\n",
        "media= np.mean (arreglo_ej_7)\n",
        "varianza= np.sum((arreglo_ej_7 - media)**2)/cantidad\n",
        "print (varianza)"
      ],
      "metadata": {
        "colab": {
          "base_uri": "https://localhost:8080/"
        },
        "id": "yBUFZpqr3ov4",
        "outputId": "b2085bdf-9cba-4251-ce77-f94f76a045ee"
      },
      "execution_count": 33,
      "outputs": [
        {
          "output_type": "stream",
          "name": "stdout",
          "text": [
            "833.25\n"
          ]
        }
      ]
    },
    {
      "cell_type": "code",
      "source": [
        "# Ejercicio 8: Crear un array de números aleatorios usando np.random.randn.#\n",
        "import numpy as np\n",
        "arreglo_ej_8= np.random.randn (20)\n",
        "print (arreglo_ej_8)"
      ],
      "metadata": {
        "colab": {
          "base_uri": "https://localhost:8080/"
        },
        "id": "ng3ywmI_6VpB",
        "outputId": "082ccc49-b721-4c27-9b50-18157a2bbc07"
      },
      "execution_count": 35,
      "outputs": [
        {
          "output_type": "stream",
          "name": "stdout",
          "text": [
            "[ 0.85838679 -0.33881247 -0.49067362 -0.62188545 -0.51857471  1.13900356\n",
            " -0.89984865 -0.58036512  0.53366369  0.58889322 -0.58691963  0.09149777\n",
            " -0.48985092  1.36949692  1.24705861 -0.21391055 -0.53118699 -1.11247089\n",
            " -3.17514596  0.66615798]\n"
          ]
        }
      ]
    }
  ]
}